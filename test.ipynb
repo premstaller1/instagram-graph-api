{
 "cells": [
  {
   "cell_type": "code",
   "execution_count": 5,
   "metadata": {},
   "outputs": [],
   "source": [
    "import requests\n",
    "import json\n",
    "import pandas as pd\n",
    "import numpy as np\n",
    "import matplotlib.pyplot as plt\n",
    "import seaborn as sns\n",
    "import datetime\n",
    "import time\n",
    "\n",
    "params = dict()\n",
    "params['access_token'] = 'EAAG24jaJaYIBANXcPcJPKCOZAKQTxgZA2qoDS92KOT5PZB029KAS5WepmfEqz1brR9DZBq08oqMx19lhlQt3L4J1JJloYVAZAQCtFsfGm8OU76HDoViZBlbJDuRIz6C7D0Bb1PoCHA7UBj2XDPT7f1d02QKZAveqAmkooz6hkDjaAtpZCeQOCzUK2fwWTvyADgBLgrNZBZCst2qwZDZD'        # not an actual access token\n",
    "params['client_id'] = '482557670549890'                  \n",
    "params['client_secret'] = 'd62937e7f31973871d86b8242430b73e'     \n",
    "params['graph_domain'] = 'https://graph.facebook.com'\n",
    "params['graph_version'] = 'v16.0'\n",
    "params['endpoint_base'] = params['graph_domain'] + '/' + params['graph_version'] + '/'\n",
    "params['page_id'] = '482557670549890'                  \n",
    "params['instagram_account_id'] = '17841447229527043'\n",
    "params['ig_username'] = 'productminimal'\n",
    "\n",
    "# Define Endpoint Parameters\n",
    "endpointParams = dict()\n",
    "endpointParams['input_token'] = params['access_token']\n",
    "endpointParams['access_token'] = params['access_token']\n",
    "\n",
    "# Define URL\n",
    "url = params['graph_domain'] + '/debug_token'\n",
    "\n",
    "\n",
    "#I want to retrieve data from Instagram Graph API\n",
    "url = params['endpoint_base'] + params['instagram_account_id'] + '/insights'\n",
    "\n",
    "# Define Endpoint Parameters\n",
    "endpointParams = dict()\n",
    "endpointParams['metric'] = 'impressions,reach,profile_views'\n",
    "endpointParams['period'] = 'day'\n",
    "endpointParams['metric_type'] = 'total_value'\n",
    "endpointParams['since'] = f'{since_time}'\n",
    "endpointParams['until'] = f'{until_time}'\n",
    "endpointParams['access_token'] = params['access_token'] \n"
   ]
  },
  {
   "cell_type": "code",
   "execution_count": 45,
   "metadata": {},
   "outputs": [
    {
     "data": {
      "text/plain": [
       "{'data': [{'name': 'impressions',\n",
       "   'period': 'day',\n",
       "   'title': 'Impressionen',\n",
       "   'description': 'So oft wurden deine Beiträge, Stories, Reels, Videos und Live-Videos gezeigt (einschließlich Platzierungen in Anzeigen).',\n",
       "   'total_value': {'value': 57318},\n",
       "   'id': '17841447229527043/insights/impressions/day'},\n",
       "  {'name': 'reach',\n",
       "   'period': 'day',\n",
       "   'title': 'Erreichte Konten',\n",
       "   'description': 'So viele individuelle Konten haben deinen Content, auch in Werbeanzeigen, mindestens einmal gesehen. Dazu zählen Beiträge, Stories, Reels, Videos und Live-Videos. Reichweite unterscheidet sich von Impressionen, denn Letztere können auch mehrfache Aufrufe deines Contents durch dieselben Konten umfassen. Bei dieser Kennzahl handelt es sich um einen Schätzwert, der sich noch in der Entwicklung befindet.',\n",
       "   'total_value': {'value': 44456},\n",
       "   'id': '17841447229527043/insights/reach/day'},\n",
       "  {'name': 'profile_views',\n",
       "   'period': 'day',\n",
       "   'title': 'Profilaufrufe',\n",
       "   'description': 'So oft wurde dein Profil besucht.',\n",
       "   'total_value': {'value': 829},\n",
       "   'id': '17841447229527043/insights/profile_views/day'}],\n",
       " 'paging': {'previous': 'https://graph.facebook.com/v16.0/17841447229527043/insights?access_token=EAAG24jaJaYIBANXcPcJPKCOZAKQTxgZA2qoDS92KOT5PZB029KAS5WepmfEqz1brR9DZBq08oqMx19lhlQt3L4J1JJloYVAZAQCtFsfGm8OU76HDoViZBlbJDuRIz6C7D0Bb1PoCHA7UBj2XDPT7f1d02QKZAveqAmkooz6hkDjaAtpZCeQOCzUK2fwWTvyADgBLgrNZBZCst2qwZDZD&since=1686437999&until=1686524399&metric=impressions%2Creach%2Cprofile_views&metric_type=total_value&period=day',\n",
       "  'next': 'https://graph.facebook.com/v16.0/17841447229527043/insights?access_token=EAAG24jaJaYIBANXcPcJPKCOZAKQTxgZA2qoDS92KOT5PZB029KAS5WepmfEqz1brR9DZBq08oqMx19lhlQt3L4J1JJloYVAZAQCtFsfGm8OU76HDoViZBlbJDuRIz6C7D0Bb1PoCHA7UBj2XDPT7f1d02QKZAveqAmkooz6hkDjaAtpZCeQOCzUK2fwWTvyADgBLgrNZBZCst2qwZDZD&since=1686610800&until=1686697200&metric=impressions%2Creach%2Cprofile_views&metric_type=total_value&period=day'}}"
      ]
     },
     "execution_count": 45,
     "metadata": {},
     "output_type": "execute_result"
    }
   ],
   "source": [
    "day_account_insight_data = requests.get(url, endpointParams )\n",
    "day_account_insight = json.loads(day_account_insight_data.content)\n",
    "day_account_insight"
   ]
  },
  {
   "cell_type": "code",
   "execution_count": 8,
   "metadata": {},
   "outputs": [
    {
     "name": "stdout",
     "output_type": "stream",
     "text": [
      "Current UNIX timestamp: 1686666609.2062438\n",
      "Since: 1686524400\n",
      "Until: 1686610799\n"
     ]
    }
   ],
   "source": [
    "import time\n",
    "\n",
    "# Get the current time in UTC\n",
    "current_time = time.gmtime()\n",
    "\n",
    "# Calculate the start of the current day (since)\n",
    "since_time = time.mktime((current_time.tm_year, current_time.tm_mon, current_time.tm_mday - 1, 0, 0, 0, 0, 0, 0))\n",
    "\n",
    "# Calculate the end of the current day (until)\n",
    "until_time = time.mktime((current_time.tm_year, current_time.tm_mon, current_time.tm_mday - 1, 23, 59, 59, 0, 0, 0))\n",
    "\n",
    "# Get the current UNIX timestamp\n",
    "timestamp = time.time()\n",
    "\n",
    "print(\"Current UNIX timestamp:\", timestamp)\n",
    "print(\"Since:\", int(since_time))\n",
    "print(\"Until:\", int(until_time))\n"
   ]
  },
  {
   "cell_type": "code",
   "execution_count": 66,
   "metadata": {},
   "outputs": [
    {
     "data": {
      "text/plain": [
       "{'data': [{'name': 'impressions',\n",
       "   'period': 'day',\n",
       "   'title': 'Impressionen',\n",
       "   'description': 'So oft wurden deine Beiträge, Stories, Reels, Videos und Live-Videos gezeigt (einschließlich Platzierungen in Anzeigen).',\n",
       "   'total_value': {'value': 57318},\n",
       "   'id': '17841447229527043/insights/impressions/day'},\n",
       "  {'name': 'reach',\n",
       "   'period': 'day',\n",
       "   'title': 'Erreichte Konten',\n",
       "   'description': 'So viele individuelle Konten haben deinen Content, auch in Werbeanzeigen, mindestens einmal gesehen. Dazu zählen Beiträge, Stories, Reels, Videos und Live-Videos. Reichweite unterscheidet sich von Impressionen, denn Letztere können auch mehrfache Aufrufe deines Contents durch dieselben Konten umfassen. Bei dieser Kennzahl handelt es sich um einen Schätzwert, der sich noch in der Entwicklung befindet.',\n",
       "   'total_value': {'value': 44456},\n",
       "   'id': '17841447229527043/insights/reach/day'},\n",
       "  {'name': 'profile_views',\n",
       "   'period': 'day',\n",
       "   'title': 'Profilaufrufe',\n",
       "   'description': 'So oft wurde dein Profil besucht.',\n",
       "   'total_value': {'value': 829},\n",
       "   'id': '17841447229527043/insights/profile_views/day'}],\n",
       " 'paging': {'previous': 'https://graph.facebook.com/v16.0/17841447229527043/insights?access_token=EAAG24jaJaYIBANXcPcJPKCOZAKQTxgZA2qoDS92KOT5PZB029KAS5WepmfEqz1brR9DZBq08oqMx19lhlQt3L4J1JJloYVAZAQCtFsfGm8OU76HDoViZBlbJDuRIz6C7D0Bb1PoCHA7UBj2XDPT7f1d02QKZAveqAmkooz6hkDjaAtpZCeQOCzUK2fwWTvyADgBLgrNZBZCst2qwZDZD&since=1686437999&until=1686524399&metric=impressions%2Creach%2Cprofile_views&metric_type=total_value&period=day',\n",
       "  'next': 'https://graph.facebook.com/v16.0/17841447229527043/insights?access_token=EAAG24jaJaYIBANXcPcJPKCOZAKQTxgZA2qoDS92KOT5PZB029KAS5WepmfEqz1brR9DZBq08oqMx19lhlQt3L4J1JJloYVAZAQCtFsfGm8OU76HDoViZBlbJDuRIz6C7D0Bb1PoCHA7UBj2XDPT7f1d02QKZAveqAmkooz6hkDjaAtpZCeQOCzUK2fwWTvyADgBLgrNZBZCst2qwZDZD&since=1686610800&until=1686697200&metric=impressions%2Creach%2Cprofile_views&metric_type=total_value&period=day'}}"
      ]
     },
     "execution_count": 66,
     "metadata": {},
     "output_type": "execute_result"
    }
   ],
   "source": [
    "day_account_insight"
   ]
  },
  {
   "cell_type": "code",
   "execution_count": 68,
   "metadata": {},
   "outputs": [
    {
     "name": "stdout",
     "output_type": "stream",
     "text": [
      "impressions: 57318\n",
      "reach: 44456\n",
      "profile_views: 829\n"
     ]
    }
   ],
   "source": [
    "for item in day_account_insight['data']:\n",
    "    category = item['name']\n",
    "    value = item['total_value']['value']\n",
    "    print(f\"{category}: {value}\")"
   ]
  },
  {
   "cell_type": "code",
   "execution_count": 21,
   "metadata": {},
   "outputs": [
    {
     "data": {
      "text/plain": [
       "datetime.datetime(2023, 6, 12, 16, 33, 5, 688999)"
      ]
     },
     "execution_count": 21,
     "metadata": {},
     "output_type": "execute_result"
    }
   ],
   "source": []
  },
  {
   "cell_type": "code",
   "execution_count": null,
   "metadata": {},
   "outputs": [],
   "source": []
  }
 ],
 "metadata": {
  "kernelspec": {
   "display_name": "Python 3",
   "language": "python",
   "name": "python3"
  },
  "language_info": {
   "codemirror_mode": {
    "name": "ipython",
    "version": 3
   },
   "file_extension": ".py",
   "mimetype": "text/x-python",
   "name": "python",
   "nbconvert_exporter": "python",
   "pygments_lexer": "ipython3",
   "version": "3.9.13"
  },
  "orig_nbformat": 4
 },
 "nbformat": 4,
 "nbformat_minor": 2
}
